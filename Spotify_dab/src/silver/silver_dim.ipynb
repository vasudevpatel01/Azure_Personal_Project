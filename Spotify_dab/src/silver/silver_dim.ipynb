{
 "cells": [
  {
   "cell_type": "markdown",
   "metadata": {
    "application/vnd.databricks.v1+cell": {
     "cellMetadata": {
      "byteLimit": 2048000,
      "rowLimit": 10000
     },
     "inputWidgets": {},
     "nuid": "ce821aa6-e1e4-41b5-9391-8efc6dd2c9c6",
     "showTitle": false,
     "tableResultSettingsMap": {},
     "title": ""
    }
   },
   "source": [
    "### Dim User"
   ]
  },
  {
   "cell_type": "code",
   "execution_count": 0,
   "metadata": {
    "application/vnd.databricks.v1+cell": {
     "cellMetadata": {
      "byteLimit": 2048000,
      "rowLimit": 10000
     },
     "inputWidgets": {},
     "nuid": "f2c2e390-c3cb-4829-8571-966488361286",
     "showTitle": false,
     "tableResultSettingsMap": {},
     "title": ""
    }
   },
   "outputs": [],
   "source": [
    "from pyspark.sql.functions import *\n",
    "import os\n",
    "import sys\n",
    "\n",
    "sys.path.append('/Workspace/Users/shwetapatel165_gmail.com#ext#@shwetapatel165gmail.onmicrosoft.com/spotify_dab')\n",
    "\n",
    "from utils.transform import transformData\n"
   ]
  },
  {
   "cell_type": "markdown",
   "metadata": {
    "application/vnd.databricks.v1+cell": {
     "cellMetadata": {
      "byteLimit": 2048000,
      "rowLimit": 10000
     },
     "inputWidgets": {},
     "nuid": "676d340e-09ae-4dcc-803b-5bd06bbded62",
     "showTitle": false,
     "tableResultSettingsMap": {},
     "title": ""
    }
   },
   "source": [
    "---\n",
    "### AutoLoader\n",
    "---"
   ]
  },
  {
   "cell_type": "code",
   "execution_count": 0,
   "metadata": {
    "application/vnd.databricks.v1+cell": {
     "cellMetadata": {
      "byteLimit": 2048000,
      "rowLimit": 10000
     },
     "inputWidgets": {},
     "nuid": "996ae185-b8e7-41ac-9556-d55e769bd6bf",
     "showTitle": false,
     "tableResultSettingsMap": {},
     "title": ""
    }
   },
   "outputs": [],
   "source": [
    "df_user = spark.readStream.format(\"cloudFiles\")\\\n",
    "            .option(\"cloudFiles.format\", \"parquet\")\\\n",
    "            .option(\"cloudFiles.schemalocation\", \"abfss://silver@vasudev001storage.dfs.core.windows.net/DimUser/checkpoint\")\\\n",
    "            .load(\"abfss://bronze@vasudev001storage.dfs.core.windows.net/DimUser\")"
   ]
  },
  {
   "cell_type": "code",
   "execution_count": 0,
   "metadata": {
    "application/vnd.databricks.v1+cell": {
     "cellMetadata": {
      "byteLimit": 2048000,
      "rowLimit": 10000
     },
     "inputWidgets": {},
     "nuid": "dcdcd540-40ea-4953-b772-ef26cfc8fc02",
     "showTitle": false,
     "tableResultSettingsMap": {},
     "title": ""
    }
   },
   "outputs": [],
   "source": [
    "df_user = df_user.withColumn(\"user_name\", upper(col(\"user_name\")))\n",
    "df_user = df_user.withColumn(\"status\",when(col(\"end_date\").isNull(), \"Active\").otherwise(\"Expired\"))\n",
    "df_user = df_user.withColumn(\"start_year\",year(\"start_date\"))\n",
    "df_user = df_user.withColumn(\"start_month\",date_format(col(\"start_date\"), \"MMMM\"))\n",
    "df_user = df_user.drop(\"_rescued_data\")\n",
    "df_user = df_user.dropDuplicates(['user_id'])"
   ]
  },
  {
   "cell_type": "code",
   "execution_count": 0,
   "metadata": {
    "application/vnd.databricks.v1+cell": {
     "cellMetadata": {
      "byteLimit": 2048000,
      "rowLimit": 10000
     },
     "inputWidgets": {},
     "nuid": "46304d61-3267-4852-914e-1400cacbfc25",
     "showTitle": false,
     "tableResultSettingsMap": {},
     "title": ""
    }
   },
   "outputs": [],
   "source": [
    "df_user.writeStream.format(\"delta\")\\\n",
    "    .outputMode(\"append\")\\\n",
    "    .option(\"checkpointLocation\", \"abfss://silver@vasudev001storage.dfs.core.windows.net/DimUser/checkpoint\")\\\n",
    "    .trigger(once=True)\\\n",
    "    .option(\"path\",\"abfss://silver@vasudev001storage.dfs.core.windows.net/DimUser/data\")\\\n",
    "    .toTable(\"spotify_cat.silver.DimUser\")"
   ]
  },
  {
   "cell_type": "code",
   "execution_count": 0,
   "metadata": {
    "application/vnd.databricks.v1+cell": {
     "cellMetadata": {
      "byteLimit": 2048000,
      "rowLimit": 10000
     },
     "inputWidgets": {},
     "nuid": "9eb4b208-bfaa-4a36-b8e7-5dea54d7beac",
     "showTitle": false,
     "tableResultSettingsMap": {},
     "title": ""
    }
   },
   "outputs": [],
   "source": [
    "df_track = spark.readStream.format(\"cloudFiles\")\\\n",
    "            .option(\"cloudFiles.format\", \"parquet\")\\\n",
    "            .option(\"cloudFiles.schemalocation\", \"abfss://silver@vasudev001storage.dfs.core.windows.net/DimTrack/checkpoint\")\\\n",
    "            .load(\"abfss://bronze@vasudev001storage.dfs.core.windows.net/DimTrack\")\n",
    "df_track = df_track.drop(\"_rescued_data\")\n",
    "df_track = df_track.dropDuplicates(['track_id'])\n",
    "df_track = df_track.withColumn(\"track_classification\",when(col(\"duration_sec\") < 150, \"Short\")\\\n",
    "                    .when((col(\"duration_sec\") >= 150) & (col(\"duration_sec\") <= 200), \"Medium\")\\\n",
    "                    .otherwise(\"Long\")\\\n",
    "                    )\n",
    "\n",
    "df_track = df_track.withColumn(\"track_name\",regexp_replace(col(\"track_name\"),'-','_'))\n"
   ]
  },
  {
   "cell_type": "code",
   "execution_count": 0,
   "metadata": {
    "application/vnd.databricks.v1+cell": {
     "cellMetadata": {
      "byteLimit": 2048000,
      "rowLimit": 10000
     },
     "inputWidgets": {},
     "nuid": "9587e1ed-1814-400b-b487-ccaf347059b0",
     "showTitle": false,
     "tableResultSettingsMap": {},
     "title": ""
    }
   },
   "outputs": [],
   "source": [
    "df_track.writeStream.format(\"delta\")\\\n",
    "    .option(\"checkpointLocation\", \"abfss://silver@vasudev001storage.dfs.core.windows.net/DimTrack/checkpoint\")\\\n",
    "    .outputMode(\"append\")\\\n",
    "    .option(\"path\",\"abfss://silver@vasudev001storage.dfs.core.windows.net/DimTrack/data\")\\\n",
    "    .trigger(once=True)\\\n",
    "    .toTable(\"spotify_cat.silver.DimTrack\")"
   ]
  },
  {
   "cell_type": "code",
   "execution_count": 0,
   "metadata": {
    "application/vnd.databricks.v1+cell": {
     "cellMetadata": {
      "byteLimit": 2048000,
      "rowLimit": 10000
     },
     "inputWidgets": {},
     "nuid": "85ad203f-d4b6-428c-81d8-43e1a8de2052",
     "showTitle": false,
     "tableResultSettingsMap": {},
     "title": ""
    }
   },
   "outputs": [],
   "source": [
    "\n",
    "dim_artist = spark.readStream.format(\"cloudFiles\")\\\n",
    "            .option(\"cloudFiles.format\", \"parquet\")\\\n",
    "            .option(\"cloudFiles.schemalocation\", \"abfss://silver@vasudev001storage.dfs.core.windows.net/DimArtist/checkpoint\")\\\n",
    "            .load(\"abfss://bronze@vasudev001storage.dfs.core.windows.net/DimArtist\")\n",
    "dim_artist = dim_artist.drop(\"_rescued_data\")\n",
    "dim_artist = dim_artist.dropDuplicates(['artist_id'])\n"
   ]
  },
  {
   "cell_type": "code",
   "execution_count": 0,
   "metadata": {
    "application/vnd.databricks.v1+cell": {
     "cellMetadata": {
      "byteLimit": 2048000,
      "rowLimit": 10000
     },
     "inputWidgets": {},
     "nuid": "8977037e-801f-44b0-b9a4-c8e75043d875",
     "showTitle": false,
     "tableResultSettingsMap": {},
     "title": ""
    }
   },
   "outputs": [],
   "source": [
    "dim_artist.writeStream.format(\"delta\")\\\n",
    "    .option(\"checkpointLocation\", \"abfss://silver@vasudev001storage.dfs.core.windows.net/DimArtist/checkpoint\")\\\n",
    "    .outputMode(\"append\")\\\n",
    "    .option(\"path\",\"abfss://silver@vasudev001storage.dfs.core.windows.net/DimArtist/data\")\\\n",
    "    .trigger(once=True)\\\n",
    "    .toTable(\"spotify_cat.silver.DimArtist\")\n"
   ]
  },
  {
   "cell_type": "code",
   "execution_count": 0,
   "metadata": {
    "application/vnd.databricks.v1+cell": {
     "cellMetadata": {
      "byteLimit": 2048000,
      "rowLimit": 10000
     },
     "inputWidgets": {},
     "nuid": "abb19750-3706-4b52-aee5-5ab231b67689",
     "showTitle": false,
     "tableResultSettingsMap": {},
     "title": ""
    }
   },
   "outputs": [],
   "source": [
    "dim_date = spark.readStream.format(\"cloudFiles\")\\\n",
    "            .option(\"cloudFiles.format\", \"parquet\")\\\n",
    "            .option(\"cloudFiles.schemalocation\", \"abfss://silver@vasudev001storage.dfs.core.windows.net/DimDate/checkpoint\")\\\n",
    "            .load(\"abfss://bronze@vasudev001storage.dfs.core.windows.net/DimDate\")\n",
    "\n",
    "dim_date = dim_date.drop(\"_rescued_data\")"
   ]
  },
  {
   "cell_type": "code",
   "execution_count": 0,
   "metadata": {
    "application/vnd.databricks.v1+cell": {
     "cellMetadata": {
      "byteLimit": 2048000,
      "rowLimit": 10000
     },
     "inputWidgets": {},
     "nuid": "2d462bb0-d982-4edc-8185-f54225d18bf1",
     "showTitle": false,
     "tableResultSettingsMap": {},
     "title": ""
    }
   },
   "outputs": [],
   "source": [
    "dim_date.writeStream.format(\"delta\")\\\n",
    "    .option(\"checkpointLocation\", \"abfss://silver@vasudev001storage.dfs.core.windows.net/DimDate/checkpoint\")\\\n",
    "    .outputMode(\"append\")\\\n",
    "    .option(\"path\",\"abfss://silver@vasudev001storage.dfs.core.windows.net/DimDate/data\")\\\n",
    "    .trigger(once=True)\\\n",
    "    .toTable(\"spotify_cat.silver.DimDate\")"
   ]
  },
  {
   "cell_type": "code",
   "execution_count": 0,
   "metadata": {
    "application/vnd.databricks.v1+cell": {
     "cellMetadata": {
      "byteLimit": 2048000,
      "rowLimit": 10000
     },
     "inputWidgets": {},
     "nuid": "5526796a-ec46-4293-9a01-3a387c81a4ac",
     "showTitle": false,
     "tableResultSettingsMap": {},
     "title": ""
    }
   },
   "outputs": [],
   "source": [
    "stream_df = spark.readStream.format(\"cloudFiles\")\\\n",
    "            .option(\"cloudFiles.format\", \"parquet\")\\\n",
    "            .option(\"cloudFiles.schemalocation\", \"abfss://silver@vasudev001storage.dfs.core.windows.net/FactStream/checkpoint\")\\\n",
    "            .load(\"abfss://bronze@vasudev001storage.dfs.core.windows.net/FactStream\")\n",
    "\n",
    "stream_df = stream_df.drop(\"_rescued_data\")\n"
   ]
  },
  {
   "cell_type": "code",
   "execution_count": 0,
   "metadata": {
    "application/vnd.databricks.v1+cell": {
     "cellMetadata": {
      "byteLimit": 2048000,
      "rowLimit": 10000
     },
     "inputWidgets": {},
     "nuid": "8e6aac50-556d-4679-8e02-29ee6c2bf1b2",
     "showTitle": false,
     "tableResultSettingsMap": {},
     "title": ""
    }
   },
   "outputs": [],
   "source": [
    "stream_df.writeStream.format(\"delta\")\\\n",
    "    .option(\"checkpointLocation\", \"abfss://silver@vasudev001storage.dfs.core.windows.net/FactStream/checkpoint\")\\\n",
    "    .outputMode(\"append\")\\\n",
    "    .option(\"path\",\"abfss://silver@vasudev001storage.dfs.core.windows.net/FactStream/data\")\\\n",
    "    .trigger(once=True)\\\n",
    "    .toTable(\"spotify_cat.silver.FactStream\")"
   ]
  },
  {
   "cell_type": "code",
   "execution_count": 0,
   "metadata": {
    "application/vnd.databricks.v1+cell": {
     "cellMetadata": {
      "byteLimit": 2048000,
      "rowLimit": 10000
     },
     "inputWidgets": {},
     "nuid": "0af7a6b1-17fc-4041-a131-3c39bf40f1d1",
     "showTitle": false,
     "tableResultSettingsMap": {},
     "title": ""
    }
   },
   "outputs": [],
   "source": []
  }
 ],
 "metadata": {
  "application/vnd.databricks.v1+notebook": {
   "computePreferences": {
    "hardware": {
     "accelerator": null,
     "gpuPoolId": null,
     "memory": null
    }
   },
   "dashboards": [],
   "environmentMetadata": {
    "base_environment": "",
    "environment_version": "4"
   },
   "inputWidgetPreferences": null,
   "language": "python",
   "notebookMetadata": {
    "mostRecentlyExecutedCommandWithImplicitDF": {
     "commandId": 8867322932673317,
     "dataframes": [
      "_sqldf"
     ]
    },
    "pythonIndentUnit": 4
   },
   "notebookName": "silver_dim",
   "widgets": {}
  },
  "language_info": {
   "name": "python"
  }
 },
 "nbformat": 4,
 "nbformat_minor": 0
}
